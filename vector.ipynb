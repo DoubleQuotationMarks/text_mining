{
 "cells": [
  {
   "cell_type": "code",
   "execution_count": 64,
   "id": "6f7c4311-6913-4c3c-a78b-9e4364bf2565",
   "metadata": {},
   "outputs": [],
   "source": [
    "import sys\n",
    "sys.path.append('C:\\\\Python310\\\\Lib\\\\site-packages')\n",
    "import re\n",
    "import jieba\n",
    "import jieba.posseg as pseg  #使用pseq進行詞性標記\n",
    "import gensim\n",
    "import numpy as np\n",
    "from keras_bert import extract_embeddings"
   ]
  },
  {
   "cell_type": "code",
   "execution_count": 76,
   "id": "d531ed5b-9abc-4108-b69e-b0b416470f8d",
   "metadata": {},
   "outputs": [
    {
     "name": "stdout",
     "output_type": "stream",
     "text": [
      "回首向來蕭瑟處，也無風雨也無晴\n"
     ]
    }
   ],
   "source": [
    "x = open('./test.txt', encoding=\"utf-8\")\n",
    "\n",
    "test = x.read()\n",
    "print(test)\n",
    "x.close()"
   ]
  },
  {
   "cell_type": "code",
   "execution_count": 51,
   "id": "55fb7c55-ceb3-412d-8a25-6329bbc233ee",
   "metadata": {},
   "outputs": [
    {
     "name": "stdout",
     "output_type": "stream",
     "text": [
      "從打造捷運三環六線，\n",
      "到整合三軸三線、擘劃六大城市願景，\n",
      "侯友宜的夢想，\n",
      "是為新北市未來的發展消除邊界，\n",
      "打造一座讓市民微笑的城市\n",
      "\n",
      "長期任職於警界的侯友宜，不但以其保家衛民、打擊犯罪的形象深植民心，自二○一○年進入新北市府擔任要職後，更接連透過五股垃圾山環境整頓、塭仔圳旗艦計畫等施政，逐步翻轉這座城市的定位與功能，一步步將之升級為大台北的中心點，屢屢登上國際舞台與全球接軌，變身擁有絕佳生活品質的宜居城市。\n",
      "\n",
      "本書包括十大篇章，內容以侯友宜的十項領導特質為核心，連結發生在新北市的各項真實改變。從他深受市民信賴的施政能力，到隱藏在政績背後的細膩思考、果斷決策，在這座具體而微的小國，侯友宜正以他劍及履及的絕佳執行力，持續將新北市推向引領全台的大城。\n"
     ]
    }
   ],
   "source": [
    "x = open('./text.txt', encoding=\"utf-8\")\n",
    "\n",
    "text = x.read()\n",
    "print(text)\n",
    "x.close()\n",
    "#print('預設:', '|'.join(jieba.cut(text)))"
   ]
  },
  {
   "cell_type": "code",
   "execution_count": 75,
   "id": "ba78b1bc-02c9-469d-82a2-9a6c1f84c8d5",
   "metadata": {},
   "outputs": [
    {
     "name": "stdout",
     "output_type": "stream",
     "text": [
      "['從', '打造', '捷運', '三', '環六線', '到', '整合', '三軸三線', '擘劃', '六大', '城市', '願景', '侯友宜', '的', '夢', '想', '是', '為', '新北市', '未來', '的', '發展', '消除', '邊界', '打造', '一座', '讓', '市民', '微笑', '的', '城市', '長', '期任', '職', '於', '警界', '的', '侯友宜', '不但', '以其', '保家衛民', '打擊', '犯罪', '的', '形象', '深植', '民心', '自二', '一年', '進入', '新北', '市府', '擔任', '要', '職後更', '接連', '透過', '五股', '垃圾', '山環境', '整頓', '塭', '仔圳旗', '艦計畫', '等', '施政', '逐步', '翻轉', '這座', '城市', '的', '定位', '與', '功能', '一步步', '將之升級', '為', '大台北', '的', '中心', '點屢', '屢', '登上', '國際', '舞台', '與', '全球', '接軌', '變身', '擁有', '絕佳', '生活', '品質', '的', '宜居城市', '本書', '包括', '十大', '篇章', '內容以', '侯友宜', '的', '十項', '領導', '特質', '為', '核心', '連結', '發生', '在', '新北市', '的', '各項', '真實', '改變', '從', '他', '深受', '市民', '信賴', '的', '施政', '能力', '到', '隱藏', '在', '政績', '背', '後', '的', '細膩', '思考', '果斷', '決策', '在', '這座', '具體', '而', '微', '的', '小國', '侯友', '宜正以', '他', '劍', '及', '履及', '的', '絕佳', '執行', '力持', '續將', '新北市', '推向', '引領', '全台', '的', '大城']\n",
      "['回首', '向來', '蕭瑟處', '也', '無風雨', '也', '無晴']\n"
     ]
    }
   ],
   "source": [
    "#斷詞\n",
    "#常用詞?\n",
    "def sentence(folder_path):\n",
    "    x = open(folder_path, encoding = 'utf-8')\n",
    "    text = re.sub('\\W*', '', x.read())\n",
    "    x.close()\n",
    "    \n",
    "    return(list(jieba.cut(text)))\n",
    "\n",
    "print(sentence('./text.txt'))\n",
    "print(sentence('./test.txt'))"
   ]
  },
  {
   "cell_type": "code",
   "execution_count": 67,
   "id": "be6e9199-d7ee-4ec1-8cb9-d41a2ab0ef9f",
   "metadata": {},
   "outputs": [],
   "source": [
    "w2v_model_path = 'tmunlp_1.6B_WB_50dim_2020v1.bin.gz'\n",
    "bert_model_path = 'chinese_L-12_H-768_A-12'"
   ]
  },
  {
   "cell_type": "code",
   "execution_count": 58,
   "id": "ce48cd07-aac0-4013-8491-35c89b3a1e96",
   "metadata": {},
   "outputs": [],
   "source": [
    "def word2vec(file_path):\n",
    "    w2v_model = gensim.models.KeyedVectors.load_word2vec_format(w2v_model_path, binary=True)\n",
    "    test_vec = []\n",
    "    test_text = sentence(file_path)\n",
    "    \n",
    "    for i in range(len(test_text)):\n",
    "        test_vec.append(w2v_model[test_text[i]])\n",
    "    \n",
    "    return(np.array(test_vec, dtype=object))"
   ]
  },
  {
   "cell_type": "code",
   "execution_count": 80,
   "id": "255521db-c1d0-43e5-8ea6-21683255f5ad",
   "metadata": {},
   "outputs": [
    {
     "name": "stdout",
     "output_type": "stream",
     "text": [
      "[-11.258142471313477 -0.22714759409427643 0.8665450811386108\n",
      " -1.0627272129058838 -0.02055462822318077 4.434039115905762\n",
      " -9.484045028686523 -2.995514154434204 -0.7856599688529968\n",
      " -7.359851360321045 -3.6058435440063477 -8.468552589416504\n",
      " -1.7810242176055908 -5.184146404266357 -5.649160861968994\n",
      " 7.325908184051514 3.215515375137329 1.0861232280731201 -4.822068691253662\n",
      " 0.9629209637641907 -8.092556953430176 2.7897989749908447 9.03172779083252\n",
      " -4.076906681060791 9.329970359802246 -4.820167064666748\n",
      " 6.8878960609436035 3.08567476272583 -1.7135815620422363\n",
      " -5.896669864654541 -12.53404712677002 0.26543715596199036\n",
      " -2.8918616771698 -11.404959678649902 2.608267307281494 -9.185042381286621\n",
      " -5.535431861877441 0.7921853065490723 0.9158935546875 0.9974091649055481\n",
      " 3.5059380531311035 0.5306425094604492 1.060878872871399\n",
      " -5.030630111694336 1.565053105354309 2.8334972858428955\n",
      " -2.2941548824310303 -5.221116542816162 2.0426290035247803\n",
      " 5.56864070892334]\n"
     ]
    }
   ],
   "source": [
    "print(word2vec('./test.txt')[0])"
   ]
  },
  {
   "cell_type": "code",
   "execution_count": 70,
   "id": "28104978-6f1a-40f3-9879-646649c81184",
   "metadata": {},
   "outputs": [],
   "source": [
    "def bert(file_path):\n",
    "    bert_model = 'chinese_L-12_H-768_A-12'\n",
    "    \n",
    "    x = open(file_path, encoding = 'utf-8')\n",
    "    text = x.read()\n",
    "    x.close()\n",
    "    \n",
    "    embeddings = extract_embeddings(bert_model_path, [text])\n",
    "    return(embeddings)"
   ]
  },
  {
   "cell_type": "code",
   "execution_count": 72,
   "id": "64c5c89b-69c7-44ae-9db9-0424a108785e",
   "metadata": {},
   "outputs": [
    {
     "name": "stdout",
     "output_type": "stream",
     "text": [
      "1/1 [==============================] - 6s 6s/step\n",
      "<class 'list'>\n"
     ]
    }
   ],
   "source": [
    "print(type(bert('./test.txt')))"
   ]
  },
  {
   "cell_type": "code",
   "execution_count": null,
   "id": "9fab515e-ee6e-44cb-aa26-a4e9a4773fba",
   "metadata": {},
   "outputs": [],
   "source": []
  }
 ],
 "metadata": {
  "kernelspec": {
   "display_name": "Python 3 (ipykernel)",
   "language": "python",
   "name": "python3"
  },
  "language_info": {
   "codemirror_mode": {
    "name": "ipython",
    "version": 3
   },
   "file_extension": ".py",
   "mimetype": "text/x-python",
   "name": "python",
   "nbconvert_exporter": "python",
   "pygments_lexer": "ipython3",
   "version": "3.10.5"
  }
 },
 "nbformat": 4,
 "nbformat_minor": 5
}
